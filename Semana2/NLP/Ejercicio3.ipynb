{
 "cells": [
  {
   "cell_type": "markdown",
   "id": "1114a73f",
   "metadata": {},
   "source": [
    "# Ejercicio 3"
   ]
  }
 ],
 "metadata": {
  "language_info": {
   "name": "python"
  }
 },
 "nbformat": 4,
 "nbformat_minor": 5
}
