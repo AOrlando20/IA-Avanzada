{
 "cells": [
  {
   "cell_type": "markdown",
   "id": "ded0fc36",
   "metadata": {},
   "source": []
  }
 ],
 "metadata": {
  "language_info": {
   "name": "python"
  }
 },
 "nbformat": 4,
 "nbformat_minor": 5
}
