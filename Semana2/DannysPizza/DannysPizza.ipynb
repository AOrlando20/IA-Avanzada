{
 "cells": [
  {
   "cell_type": "markdown",
   "id": "7d9c801c",
   "metadata": {},
   "source": [
    "# Danny's Pizza"
   ]
  }
 ],
 "metadata": {
  "language_info": {
   "name": "python"
  }
 },
 "nbformat": 4,
 "nbformat_minor": 5
}
