{
 "cells": [
  {
   "cell_type": "markdown",
   "id": "d6fee03e",
   "metadata": {},
   "source": [
    "# Colab - Ejercicio AirBnB"
   ]
  },
  {
   "cell_type": "markdown",
   "id": "cd9a66e0",
   "metadata": {},
   "source": [
    "## Extracción de datos"
   ]
  },
  {
   "cell_type": "code",
   "execution_count": null,
   "id": "5bed3d7e",
   "metadata": {},
   "outputs": [],
   "source": []
  }
 ],
 "metadata": {
  "kernelspec": {
   "display_name": "IA_Avanzada",
   "language": "python",
   "name": "python3"
  },
  "language_info": {
   "name": "python",
   "version": "3.13.5"
  }
 },
 "nbformat": 4,
 "nbformat_minor": 5
}
