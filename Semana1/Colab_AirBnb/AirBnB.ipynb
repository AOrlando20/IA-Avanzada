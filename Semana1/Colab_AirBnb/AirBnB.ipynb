{
 "cells": [
  {
   "cell_type": "markdown",
   "id": "d6fee03e",
   "metadata": {},
   "source": [
    "# Colab - Ejercicio AirBnB"
   ]
  },
  {
   "cell_type": "markdown",
   "id": "cd9a66e0",
   "metadata": {},
   "source": [
    "## Extracción de datos"
   ]
  },
  {
   "cell_type": "code",
   "execution_count": null,
   "id": "5bed3d7e",
   "metadata": {
    "vscode": {
     "languageId": "plaintext"
    }
   },
   "outputs": [],
   "source": []
  }
 ],
 "metadata": {
  "language_info": {
   "name": "python"
  }
 },
 "nbformat": 4,
 "nbformat_minor": 5
}
